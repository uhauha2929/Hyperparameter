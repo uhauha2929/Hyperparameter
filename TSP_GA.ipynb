{
 "cells": [
  {
   "cell_type": "code",
   "execution_count": 189,
   "metadata": {},
   "outputs": [],
   "source": [
    "import pandas as pd\n",
    "import numpy as np\n",
    "import random\n",
    "import matplotlib.pyplot as plt"
   ]
  },
  {
   "cell_type": "code",
   "execution_count": 190,
   "metadata": {},
   "outputs": [
    {
     "data": {
      "text/html": [
       "<div>\n",
       "<style scoped>\n",
       "    .dataframe tbody tr th:only-of-type {\n",
       "        vertical-align: middle;\n",
       "    }\n",
       "\n",
       "    .dataframe tbody tr th {\n",
       "        vertical-align: top;\n",
       "    }\n",
       "\n",
       "    .dataframe thead th {\n",
       "        text-align: right;\n",
       "    }\n",
       "</style>\n",
       "<table border=\"1\" class=\"dataframe\">\n",
       "  <thead>\n",
       "    <tr style=\"text-align: right;\">\n",
       "      <th></th>\n",
       "      <th>0</th>\n",
       "      <th>1</th>\n",
       "      <th>2</th>\n",
       "    </tr>\n",
       "  </thead>\n",
       "  <tbody>\n",
       "    <tr>\n",
       "      <th>0</th>\n",
       "      <td>0</td>\n",
       "      <td>11003.6111</td>\n",
       "      <td>42102.5000</td>\n",
       "    </tr>\n",
       "    <tr>\n",
       "      <th>1</th>\n",
       "      <td>1</td>\n",
       "      <td>11108.6111</td>\n",
       "      <td>42373.8889</td>\n",
       "    </tr>\n",
       "    <tr>\n",
       "      <th>2</th>\n",
       "      <td>2</td>\n",
       "      <td>11133.3333</td>\n",
       "      <td>42885.8333</td>\n",
       "    </tr>\n",
       "    <tr>\n",
       "      <th>3</th>\n",
       "      <td>3</td>\n",
       "      <td>11155.8333</td>\n",
       "      <td>42712.5000</td>\n",
       "    </tr>\n",
       "    <tr>\n",
       "      <th>4</th>\n",
       "      <td>4</td>\n",
       "      <td>11183.3333</td>\n",
       "      <td>42933.3333</td>\n",
       "    </tr>\n",
       "  </tbody>\n",
       "</table>\n",
       "</div>"
      ],
      "text/plain": [
       "   0           1           2\n",
       "0  0  11003.6111  42102.5000\n",
       "1  1  11108.6111  42373.8889\n",
       "2  2  11133.3333  42885.8333\n",
       "3  3  11155.8333  42712.5000\n",
       "4  4  11183.3333  42933.3333"
      ]
     },
     "execution_count": 190,
     "metadata": {},
     "output_type": "execute_result"
    }
   ],
   "source": [
    "df = pd.read_csv('dj38.tsp', sep=' ', header=None, skiprows=10) # 跳过前10行\n",
    "df[0] -= 1\n",
    "df.head()"
   ]
  },
  {
   "cell_type": "code",
   "execution_count": 191,
   "metadata": {},
   "outputs": [
    {
     "data": {
      "text/plain": [
       "[<matplotlib.lines.Line2D at 0x12a824a60>]"
      ]
     },
     "execution_count": 191,
     "metadata": {},
     "output_type": "execute_result"
    },
    {
     "data": {
      "image/png": "[encoded data removed]",
      "text/plain": [
       "<Figure size 432x288 with 1 Axes>"
      ]
     },
     "metadata": {
      "needs_background": "light"
     },
     "output_type": "display_data"
    }
   ],
   "source": [
    "plt.plot(df[1], df[2], '*')"
   ]
  },
  {
   "cell_type": "code",
   "execution_count": 203,
   "metadata": {},
   "outputs": [],
   "source": [
    "n_cities = len(df)  # 城市数量\n",
    "n_species = 500  # 种群大小"
   ]
  },
  {
   "cell_type": "code",
   "execution_count": 204,
   "metadata": {},
   "outputs": [],
   "source": [
    "# 计算各个城市的邻接矩阵\n",
    "dist = np.zeros((n_cities, n_cities))\n",
    "for i in range(n_cities):\n",
    "    for j in range(n_cities):\n",
    "        dist[i, j] = np.sqrt(\n",
    "            (df.iloc[i, 1] - df.iloc[j, 1]) ** 2 + \\\n",
    "                (df.iloc[i, 2] - df.iloc[j, 2]) ** 2)"
   ]
  },
  {
   "cell_type": "code",
   "execution_count": 205,
   "metadata": {},
   "outputs": [
    {
     "data": {
      "text/plain": [
       "500"
      ]
     },
     "execution_count": 205,
     "metadata": {},
     "output_type": "execute_result"
    }
   ],
   "source": [
    "# 初始化种群，生成初始解的集合\n",
    "x = []\n",
    "for _ in range(n_species):\n",
    "    gene = np.random.permutation(n_cities)\n",
    "    gene = gene.tolist()\n",
    "    gene.append(gene[0])\n",
    "    x.append(gene)\n",
    "\n",
    "len(x)"
   ]
  },
  {
   "cell_type": "code",
   "execution_count": 206,
   "metadata": {},
   "outputs": [],
   "source": [
    "def total_dist(gene):\n",
    "    total_dist = 0\n",
    "    n = len(gene)\n",
    "    for i in range(n-1):\n",
    "        cur_city = gene[i]\n",
    "        next_city = gene[i+1]\n",
    "        total_dist += dist[cur_city, next_city]\n",
    "    return total_dist"
   ]
  },
  {
   "cell_type": "code",
   "execution_count": 207,
   "metadata": {},
   "outputs": [
    {
     "data": {
      "text/plain": [
       "6659.431532931466"
      ]
     },
     "execution_count": 207,
     "metadata": {},
     "output_type": "execute_result"
    }
   ],
   "source": [
    "total_dist([29,28,20,13,9,0,1,3,2,4,5,6,7,8,11,10,18,17,16,15,12,14,19,22,25,24,21,23,27,26,30,35,33,32,37,36,34,31,29])"
   ]
  },
  {
   "cell_type": "code",
   "execution_count": 208,
   "metadata": {},
   "outputs": [],
   "source": [
    "def cal_fitness(gene):\n",
    "    return 1 / total_dist(gene)"
   ]
  },
  {
   "cell_type": "code",
   "execution_count": 209,
   "metadata": {},
   "outputs": [],
   "source": [
    "def crossover(f, m):\n",
    "    f, m = f[:-1], m[:-1]\n",
    "    n = len(f)\n",
    "    # 选择交叉点交换片段\n",
    "    p1, p2 = np.random.choice(n, 2, replace=False)\n",
    "    if p1 > p2:\n",
    "        p1, p2 = p2, p1\n",
    "    p1, p2 = 1, 5\n",
    "    temp = f[p1:p2]\n",
    "    f[p1:p2] = m[p1:p2]\n",
    "    m[p1:p2] = temp\n",
    "    # 建立映射\n",
    "    map_f = {f[i] : m[i] for i in range(p1, p2)}\n",
    "    map_m = {m[i] : f[i] for i in range(p1, p2)}\n",
    "    # 去重\n",
    "    for i in range(0, p1):\n",
    "        while f[i] in map_f:\n",
    "            f[i] = map_f[f[i]]\n",
    "        while m[i] in map_m:\n",
    "            m[i] = map_m[m[i]]\n",
    "    for i in range(p2, n):\n",
    "        while f[i] in map_f:\n",
    "            f[i] = map_f[f[i]]\n",
    "        while m[i] in map_m:\n",
    "            m[i] = map_m[m[i]]\n",
    "    f.append(f[0])\n",
    "    m.append(m[0])\n",
    "    return f, m"
   ]
  },
  {
   "cell_type": "code",
   "execution_count": 210,
   "metadata": {},
   "outputs": [],
   "source": [
    "def mutate(gene):\n",
    "    n = len(gene)\n",
    "    i, j = np.random.choice(n,2,replace=False)\n",
    "    if i > j:\n",
    "        i, j = j, i\n",
    "    after_mutate = gene[0:i]\n",
    "    temp = list(reversed(gene[i:j]))\n",
    "    after_mutate.extend(temp)\n",
    "    after_mutate.extend(gene[j:n])\n",
    "    return after_mutate"
   ]
  },
  {
   "cell_type": "code",
   "execution_count": 211,
   "metadata": {},
   "outputs": [],
   "source": [
    "def selection(x, rate=0.2):\n",
    "    x_new = x[:]\n",
    "    n = len(x)\n",
    "    # 选取最优的若干个\n",
    "    x_new.sort(key=lambda x: total_dist(x))\n",
    "    parents = x_new[:int(n * rate)]\n",
    "    # 个体在整个种群适应度分布\n",
    "    fit_list = [cal_fitness(x_new[i]) for i in range(n)]\n",
    "    prob = fit_list / sum(fit_list)\n",
    "    # 剩余按照适应度随机选取配偶\n",
    "    idx = np.random.choice(n, size=int((1 - rate) * n), replace=False, p=prob)\n",
    "    parents.extend([x_new[i] for i in idx])\n",
    "    return parents"
   ]
  },
  {
   "cell_type": "code",
   "execution_count": 212,
   "metadata": {},
   "outputs": [
    {
     "name": "stdout",
     "output_type": "stream",
     "text": [
      "21556.703410095037\n",
      "8373.845879858603\n",
      "6872.602109913099\n",
      "6659.906740386758\n",
      "6659.906740386758\n",
      "6659.906740386758\n",
      "6659.906740386758\n",
      "6659.431532931465\n",
      "6659.431532931465\n",
      "6659.431532931465\n"
     ]
    }
   ],
   "source": [
    "\n",
    "for it in range(2000):\n",
    "    x_new = selection(x)\n",
    "    k = n_species // 2\n",
    "    for i in range(k):\n",
    "        j = i + k\n",
    "        f, m = crossover(x_new[i], x_new[j])\n",
    "        if np.random.rand() < 0.1:\n",
    "            f = mutate(f)\n",
    "            m = mutate(m)\n",
    "        x_new[i] = f\n",
    "        x_new[j] = m\n",
    "    x = x_new\n",
    "    if it % 200 == 0:\n",
    "        x_min = min(map(lambda x: total_dist(x), x_new))\n",
    "        print(x_min)"
   ]
  },
  {
   "cell_type": "code",
   "execution_count": 213,
   "metadata": {},
   "outputs": [
    {
     "data": {
      "image/png": "[encoded data removed]",
      "text/plain": [
       "<Figure size 432x288 with 1 Axes>"
      ]
     },
     "metadata": {
      "needs_background": "light"
     },
     "output_type": "display_data"
    }
   ],
   "source": [
    "plk1 = []\n",
    "plk2 = []\n",
    "for i in range(len(x[0])):\n",
    "    plk2.append(df.iloc[x[0][i], 1])\n",
    "    plk1.append(df.iloc[x[0][i], 2])\n",
    "plot = plt.plot(plk1, plk2, c='r')\n",
    "plt.xlabel('x')\n",
    "plt.ylabel('y')\n",
    "plt.show()"
   ]
  }
 ],
 "metadata": {
  "kernelspec": {
   "display_name": "Python 3.8.11 ('base')",
   "language": "python",
   "name": "python3"
  },
  "language_info": {
   "codemirror_mode": {
    "name": "ipython",
    "version": 3
   },
   "file_extension": ".py",
   "mimetype": "text/x-python",
   "name": "python",
   "nbconvert_exporter": "python",
   "pygments_lexer": "ipython3",
   "version": "3.8.11"
  },
  "orig_nbformat": 4,
  "vscode": {
   "interpreter": {
    "hash": "981a19ffd41dc38479ec69e8a580f721ecfa1cc30965125ede10e51465e4c42a"
   }
  }
 },
 "nbformat": 4,
 "nbformat_minor": 2
}
